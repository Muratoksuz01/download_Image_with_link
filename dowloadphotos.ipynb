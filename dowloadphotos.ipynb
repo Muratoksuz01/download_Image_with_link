{
 "cells": [
  {
   "cell_type": "code",
   "execution_count": 1,
   "metadata": {},
   "outputs": [
    {
     "name": "stdout",
     "output_type": "stream",
     "text": [
      "Resim indirildi: downloaded_images/image0.png\n",
      "Tüm resimler indirildi.\n"
     ]
    }
   ],
   "source": [
    "import requests\n",
    "import os\n",
    "\n",
    "# İndirilecek resimlerin linkleri\n",
    "image_urls = [\n",
    "    \"https://prod-images-static.radiopaedia.org/images/51429484/c0362c0f0b291930206325a34170ae_big_gallery.jpeg\"\n",
    "]\n",
    "\n",
    "# Resimleri kaydedeceğimiz dizin\n",
    "save_dir = \"downloaded_images\"\n",
    "os.makedirs(save_dir, exist_ok=True)\n",
    "\n",
    "for i,url in enumerate(image_urls):\n",
    "    try:\n",
    "        # Resim adını URL'den alıyoruz\n",
    "      #  image_name = os.path.basename(url)\n",
    "        image_path = os.path.join(save_dir, f\"image{i}.png\")\n",
    "        \n",
    "        # HTTP GET isteği gönder\n",
    "        response = requests.get(url)\n",
    "        response.raise_for_status()  # İstek başarısız olursa hata fırlatır\n",
    "        \n",
    "        # Resmi dosyaya yaz\n",
    "        with open(image_path, 'wb') as file:\n",
    "            file.write(response.content)\n",
    "        \n",
    "        print(f\"Resim indirildi: {image_path}\")\n",
    "    \n",
    "    except requests.exceptions.RequestException as e:\n",
    "        print(f\"Resim indirilemedi: {url}. Hata: {e}\")\n",
    "\n",
    "print(\"Tüm resimler indirildi.\")\n"
   ]
  },
  {
   "cell_type": "code",
   "execution_count": 4,
   "metadata": {},
   "outputs": [
    {
     "name": "stdout",
     "output_type": "stream",
     "text": [
      "Resim başarıyla indirildi ve kaydedildi.\n"
     ]
    }
   ],
   "source": [
    "import base64\n",
    "from PIL import Image\n",
    "from io import BytesIO\n",
    "\n",
    "# Var olan base64 kodlu resim verisi\n",
    "base64_image_string = \"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\"\n",
    "\n",
    "\n",
    "image_data = base64.b64decode(base64_image_string)\n",
    "\n",
    "# Görüntüyü oluşturma\n",
    "image = Image.open(BytesIO(image_data))\n",
    "\n",
    "# Görüntüyü kaydetme\n",
    "image.save('downloaded_images/indirilen_resim.jpg')\n",
    "\n",
    "print(\"Resim başarıyla indirildi ve kaydedildi.\")\n"
   ]
  },
  {
   "cell_type": "code",
   "execution_count": 8,
   "metadata": {},
   "outputs": [],
   "source": [
    "def installBase(i,url):\n",
    "    try:\n",
    "        url=url.split(\"base64,\")[1]\n",
    "        image_data = base64.b64decode(base64_image_string)\n",
    "\n",
    "        # Görüntüyü oluşturma\n",
    "        image = Image.open(BytesIO(image_data))\n",
    "\n",
    "        # Görüntüyü kaydetme\n",
    "        image.save(f'downloaded_images/image{i}.jpg')\n",
    "\n",
    "        print(\"Resim başarıyla indirildi ve kaydedildi.\")\n",
    "    except:\n",
    "        with open(\"hatalı-url.txt\",\"a+\") as f:\n",
    "            f.write(url+\"\\n\")"
   ]
  },
  {
   "cell_type": "code",
   "execution_count": 6,
   "metadata": {},
   "outputs": [],
   "source": [
    "def httpimage(i,url):\n",
    "    try:\n",
    "        save_dir = \"downloaded_images\"\n",
    "\n",
    "        # Resim adını URL'den alıyoruz\n",
    "      #  image_name = os.path.basename(url)\n",
    "        image_path = os.path.join(save_dir, f\"image{i}.png\")\n",
    "        \n",
    "        # HTTP GET isteği gönder\n",
    "        response = requests.get(url)\n",
    "        response.raise_for_status()  # İstek başarısız olursa hata fırlatır\n",
    "        \n",
    "        # Resmi dosyaya yaz\n",
    "        with open(image_path, 'wb') as file:\n",
    "            file.write(response.content)\n",
    "        \n",
    "        print(f\"Resim indirildi: {image_path}\")\n",
    "    \n",
    "    except requests.exceptions.RequestException as e:\n",
    "        with open(\"hatalı-url.txt\",\"a+\") as f:\n",
    "            f.write(url+\"\\n\")\n",
    "        print(f\"Resim indirilemedi: {url}. Hata: {e}\")"
   ]
  },
  {
   "cell_type": "code",
   "execution_count": 12,
   "metadata": {},
   "outputs": [
    {
     "name": "stdout",
     "output_type": "stream",
     "text": [
      "Resim başarıyla indirildi ve kaydedildi.\n",
      "Resim başarıyla indirildi ve kaydedildi.\n",
      "Resim başarıyla indirildi ve kaydedildi.\n",
      "Resim başarıyla indirildi ve kaydedildi.\n",
      "Resim başarıyla indirildi ve kaydedildi.\n",
      "Resim başarıyla indirildi ve kaydedildi.\n"
     ]
    }
   ],
   "source": [
    "with open(\"hatalı-url.txt\",\"r\") as  f:\n",
    "    allUlr=f.readlines()\n",
    "for i,url in enumerate(allUlr):\n",
    "    if url.startswith(\"data\"):installBase(i,url)\n",
    "    if url.startswith(\"https\"):httpimage(i,url)\n",
    "    else:\n",
    "        with open(\"hatalı-url.txt\",\"a+\") as f:\n",
    "            f.write(url+\"\\n\")"
   ]
  }
 ],
 "metadata": {
  "kernelspec": {
   "display_name": "myenv",
   "language": "python",
   "name": "python3"
  },
  "language_info": {
   "codemirror_mode": {
    "name": "ipython",
    "version": 3
   },
   "file_extension": ".py",
   "mimetype": "text/x-python",
   "name": "python",
   "nbconvert_exporter": "python",
   "pygments_lexer": "ipython3",
   "version": "3.11.2"
  }
 },
 "nbformat": 4,
 "nbformat_minor": 2
}
